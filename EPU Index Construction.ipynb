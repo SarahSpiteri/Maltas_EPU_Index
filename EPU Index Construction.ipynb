{
 "cells": [
  {
   "cell_type": "markdown",
   "id": "da5d9fc5",
   "metadata": {},
   "source": [
    "# EPU Index Construction"
   ]
  },
  {
   "cell_type": "code",
   "execution_count": 1,
   "id": "25e2ac3a",
   "metadata": {},
   "outputs": [],
   "source": [
    "# Global Option \n",
    "start_yr = 2004\n",
    "end_yr = 2025\n",
    "end_mt = 1"
   ]
  },
  {
   "cell_type": "code",
   "execution_count": 2,
   "id": "f82a39bd",
   "metadata": {},
   "outputs": [],
   "source": [
    "# Required Packages\n",
    "import pandas as pd\n",
    "import numpy as np"
   ]
  },
  {
   "cell_type": "markdown",
   "id": "1f01c2fb",
   "metadata": {},
   "source": [
    "### Core Index with English Language Newspapers"
   ]
  },
  {
   "cell_type": "code",
   "execution_count": 3,
   "id": "a86ac1f2",
   "metadata": {},
   "outputs": [
    {
     "name": "stdout",
     "output_type": "stream",
     "text": [
      "Malta Independent\n",
      "   Year  Month  Articles  EPU\n",
      "0  2004     12        36    0\n",
      "1  2005      1       306    3\n",
      "2  2005      2       279    1\n",
      "3  2005      3       317    1\n",
      "4  2005      4       782    5\n",
      "Malta Today\n",
      "   Year  Month  Articles  EPU\n",
      "0  2004      1        45    2\n",
      "1  2004      2        61    0\n",
      "2  2004      3        56    0\n",
      "3  2004      4        56    1\n",
      "4  2004      5        68    3\n",
      "Times of Malta\n",
      "   Year  Month  Articles  EPU\n",
      "0  2002      4         5    0\n",
      "1  2002      5         4    0\n",
      "2  2002      6       842    6\n",
      "3  2002      7       869    9\n",
      "4  2002      8       726    4\n",
      "TVM\n",
      "     Year  Month  Articles  EPU\n",
      "0  2015.0    6.0        35    0\n",
      "1  2015.0    7.0       216    1\n",
      "2  2015.0    8.0       349    0\n",
      "3  2015.0    9.0       291    1\n",
      "4  2015.0   10.0       316    0\n"
     ]
    }
   ],
   "source": [
    "# Load Monthly Counts Files\n",
    "\n",
    "independent = pd.read_csv('Independent/independent_monthly.csv')\n",
    "print('Malta Independent')\n",
    "print(independent.head())\n",
    "\n",
    "malta_today = pd.read_csv('Malta Today/malta_today_monthly.csv')\n",
    "print('Malta Today')\n",
    "print(malta_today.head())\n",
    "\n",
    "times = pd.read_csv('Times/times_monthly.csv')\n",
    "print('Times of Malta')\n",
    "print(times.head())\n",
    "\n",
    "tvm = pd.read_csv('TVM/tvm_monthly.csv')\n",
    "print('TVM')\n",
    "print(tvm.head())"
   ]
  },
  {
   "cell_type": "code",
   "execution_count": 4,
   "id": "4b2980e8",
   "metadata": {},
   "outputs": [],
   "source": [
    "# Specify List of Dataframes\n",
    "df_list = [independent, malta_today, times, tvm]"
   ]
  },
  {
   "cell_type": "code",
   "execution_count": 5,
   "id": "57bb53a0",
   "metadata": {},
   "outputs": [],
   "source": [
    "# Specify List of Dataframe Names\n",
    "df_names = ['Malta Independent', 'Malta Today', 'Times of Malta', 'TVM']"
   ]
  },
  {
   "cell_type": "code",
   "execution_count": 6,
   "id": "28795813",
   "metadata": {},
   "outputs": [],
   "source": [
    "# Data Cleaning\n",
    "for i in range(0,len(df_list)):\n",
    "    df_list[i]['Year'] = df_list[i]['Year'].astype(int) \n",
    "    df_list[i]['Month'] = df_list[i]['Month'].astype(int)\n",
    "    # Enforce Date Range\n",
    "    df_list[i] = df_list[i][df_list[i]['Year'] >= start_yr]\n",
    "    df_list[i] = df_list[i][df_list[i]['Year'] <= end_yr]\n",
    "    df_list[i] = df_list[i][~((df_list[i]['Year'] == end_yr) & (df_list[i]['Month'] > end_mt))]\n",
    "    # Make Sure Number of Articles is Greater than 10\n",
    "    df_list[i] = df_list[i][df_list[i]['Articles'] > 10]"
   ]
  },
  {
   "cell_type": "code",
   "execution_count": 7,
   "id": "e52509d5",
   "metadata": {},
   "outputs": [],
   "source": [
    "# Generate Newspaper Specific Indicators - EPU Count / Total Count\n",
    "for i in range(0,len(df_list)):\n",
    "    df_list[i]['EPUI'] = df_list[i]['EPU'] / df_list[i]['Articles']"
   ]
  },
  {
   "cell_type": "code",
   "execution_count": 8,
   "id": "61c4a4b0",
   "metadata": {},
   "outputs": [],
   "source": [
    "# Get Standard Deviations\n",
    "st_dev = []\n",
    "for i in range(0,len(df_list)):\n",
    "    st_dev.append(df_list[i]['EPUI'].std())"
   ]
  },
  {
   "cell_type": "code",
   "execution_count": 9,
   "id": "5c946b61",
   "metadata": {},
   "outputs": [],
   "source": [
    "# Standardise Newspaper Indices\n",
    "for i in range(0,len(df_list)):\n",
    "    df_list[i]['EPUI'] = df_list[i]['EPUI'] / st_dev[i]"
   ]
  },
  {
   "cell_type": "code",
   "execution_count": 10,
   "id": "62aafa47",
   "metadata": {},
   "outputs": [
    {
     "name": "stdout",
     "output_type": "stream",
     "text": [
      "EPU Dataframe Size : (253, 7)\n",
      "<class 'pandas.core.frame.DataFrame'>\n",
      "RangeIndex: 253 entries, 0 to 252\n",
      "Data columns (total 7 columns):\n",
      " #   Column            Non-Null Count  Dtype         \n",
      "---  ------            --------------  -----         \n",
      " 0   Date              253 non-null    datetime64[ns]\n",
      " 1   Year              253 non-null    int64         \n",
      " 2   Month             253 non-null    int64         \n",
      " 3   EPUI_Times        253 non-null    float64       \n",
      " 4   EPUI_Independent  242 non-null    float64       \n",
      " 5   EPUI_MaltaToday   223 non-null    float64       \n",
      " 6   EPUI_TVM          116 non-null    float64       \n",
      "dtypes: datetime64[ns](1), float64(4), int64(2)\n",
      "memory usage: 14.0 KB\n"
     ]
    }
   ],
   "source": [
    "# Get Expanded EPU Dataframe\n",
    "\n",
    "# Get Date Feature\n",
    "for i in range(0,len(df_list)):\n",
    "    df_list[i]['Date'] = df_list[i]['Year'].astype(str) + '-' + df_list[i]['Month'].astype(str) + '-01'\n",
    "    df_list[i]['Date'] = pd.to_datetime(df_list[i]['Date'])\n",
    "\n",
    "# Get Subset of Dataframes -> Dates Merge to be Based on Times Dataset (Largest)\n",
    "independent_index = df_list[0][['Date', 'EPUI']]\n",
    "malta_today_index = df_list[1][['Date', 'EPUI']]\n",
    "times_index = df_list[2][['Date', 'Year', 'Month', 'EPUI']]\n",
    "tvm_index = df_list[3][['Date', 'EPUI']]\n",
    "\n",
    "# Rename EPU Columns\n",
    "pd.options.mode.chained_assignment = None #prevent SettingWithCopyWarning message from appearing\n",
    "independent_index.rename(columns = {'EPUI':'EPUI_Independent'}, inplace = True)\n",
    "times_index.rename(columns = {'EPUI':'EPUI_Times'}, inplace = True)\n",
    "malta_today_index.rename(columns = {'EPUI':'EPUI_MaltaToday'}, inplace = True)\n",
    "tvm_index.rename(columns = {'EPUI':'EPUI_TVM'}, inplace = True)\n",
    "\n",
    "# Join Datasets\n",
    "epu = times_index.merge(independent_index, how='left', on='Date')\n",
    "epu = epu.merge(malta_today_index, how='left', on='Date')\n",
    "epu = epu.merge(tvm_index, how='left', on='Date')\n",
    "\n",
    "print('EPU Dataframe Size :', epu.shape)\n",
    "epu.info()"
   ]
  },
  {
   "cell_type": "code",
   "execution_count": 11,
   "id": "532151db",
   "metadata": {},
   "outputs": [],
   "source": [
    "# Get Row Means of EPU Indices\n",
    "epu['EPU'] = epu[['EPUI_Times', 'EPUI_Independent', 'EPUI_MaltaToday', 'EPUI_TVM']].mean(axis=1, skipna=True)"
   ]
  },
  {
   "cell_type": "code",
   "execution_count": 12,
   "id": "6bdaa18b",
   "metadata": {},
   "outputs": [
    {
     "name": "stdout",
     "output_type": "stream",
     "text": [
      "EPU\n",
      "        Date  Year  Month  EPUI_Times  EPUI_Independent  EPUI_MaltaToday  \\\n",
      "0 2004-01-01  2004      1    1.027015               NaN         3.327752   \n",
      "1 2004-02-01  2004      2    0.553586               NaN         0.000000   \n",
      "2 2004-03-01  2004      3    0.899702               NaN         0.000000   \n",
      "3 2004-04-01  2004      4    0.520276               NaN         1.337043   \n",
      "4 2004-05-01  2004      5    1.342085               NaN         3.303284   \n",
      "\n",
      "   EPUI_TVM         EPU  \n",
      "0       NaN  147.851131  \n",
      "1       NaN   18.795109  \n",
      "2       NaN   30.546285  \n",
      "3       NaN   63.058876  \n",
      "4       NaN  157.717506  \n",
      "...\n",
      "          Date  Year  Month  EPUI_Times  EPUI_Independent  EPUI_MaltaToday  \\\n",
      "248 2024-09-01  2024      9    1.471444          2.320151         0.504205   \n",
      "249 2024-10-01  2024     10    1.133671          2.778202         0.441737   \n",
      "250 2024-11-01  2024     11    0.790608          2.631715         2.339826   \n",
      "251 2024-12-01  2024     12    2.530679          2.482750         0.000000   \n",
      "252 2025-01-01  2025      1    0.853807          2.147086         0.275274   \n",
      "\n",
      "     EPUI_TVM         EPU  \n",
      "248  0.000000   72.924560  \n",
      "249  0.582332   83.791450  \n",
      "250  2.035033  132.363213  \n",
      "251  1.428362  109.354420  \n",
      "252  0.645932   66.580678  \n"
     ]
    }
   ],
   "source": [
    "# Normalise Index with mean 100\n",
    "epu_mean = epu['EPU'].mean()\n",
    "epu['EPU'] = (epu['EPU'] * 100) / epu_mean\n",
    "print('EPU')\n",
    "print(epu.head())\n",
    "print('...')\n",
    "print(epu.tail())"
   ]
  },
  {
   "cell_type": "code",
   "execution_count": 13,
   "id": "3e638650",
   "metadata": {},
   "outputs": [],
   "source": [
    "# Save Dataframes\n",
    "epu.to_csv('EPU.csv', index=False)"
   ]
  }
 ],
 "metadata": {
  "kernelspec": {
   "display_name": "Python 3 (ipykernel)",
   "language": "python",
   "name": "python3"
  },
  "language_info": {
   "codemirror_mode": {
    "name": "ipython",
    "version": 3
   },
   "file_extension": ".py",
   "mimetype": "text/x-python",
   "name": "python",
   "nbconvert_exporter": "python",
   "pygments_lexer": "ipython3",
   "version": "3.10.7"
  }
 },
 "nbformat": 4,
 "nbformat_minor": 5
}
